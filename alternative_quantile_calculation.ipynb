{
 "cells": [
  {
   "cell_type": "code",
   "execution_count": 1,
   "metadata": {},
   "outputs": [],
   "source": [
    "from scipy.stats.mstats import mquantiles  # I think this is stats with masked arrays."
   ]
  },
  {
   "cell_type": "code",
   "execution_count": 3,
   "metadata": {},
   "outputs": [],
   "source": [
    "import numpy as np"
   ]
  },
  {
   "cell_type": "code",
   "execution_count": 10,
   "metadata": {},
   "outputs": [
    {
     "name": "stdout",
     "output_type": "stream",
     "text": [
      "[[6.0 7.0 1.0]\n",
      " [47.0 15.0 2.0]\n",
      " [49.0 36.0 3.0]\n",
      " [15.0 39.0 4.0]\n",
      " [42.0 40.0 --]\n",
      " [41.0 41.0 --]\n",
      " [7.0 -- --]\n",
      " [39.0 -- --]\n",
      " [43.0 -- --]\n",
      " [40.0 -- --]\n",
      " [36.0 -- --]]\n",
      "[[19.2  14.6   1.45]\n",
      " [40.   37.5   2.5 ]\n",
      " [42.8  40.05  3.55]]\n"
     ]
    }
   ],
   "source": [
    "data = np.array([[   6.,    7.,    1.],\n",
    "                 [  47.,   15.,    2.],\n",
    "                 [  49.,   36.,    3.],\n",
    "                 [  15.,   39.,    4.],\n",
    "                 [  42.,   40., -999.],\n",
    "                 [  41.,   41., -999.],\n",
    "                 [   7., np.nan, -999.],\n",
    "                 [  39., -999., -999.],\n",
    "                 [  43., -999., -999.],\n",
    "                 [  40., -999., -999.],\n",
    "                 [  36., -999., -999.]])\n",
    "\n",
    "ma_data = np.ma.masked_invalid(data)\n",
    "ma_data = np.ma.masked_where(ma_data == -999., ma_data)\n",
    "print(ma_data)\n",
    "print(mquantiles(ma_data, axis=0, limit=(0, 50)))"
   ]
  },
  {
   "cell_type": "code",
   "execution_count": null,
   "metadata": {},
   "outputs": [],
   "source": [
    "[[19.2  14.6   1.45]\n",
    " [40.   37.5   2.5 ]\n",
    " [42.8  40.05  3.55]]"
   ]
  },
  {
   "cell_type": "code",
   "execution_count": 11,
   "metadata": {},
   "outputs": [],
   "source": [
    "import xarray as xr"
   ]
  },
  {
   "cell_type": "code",
   "execution_count": 12,
   "metadata": {},
   "outputs": [],
   "source": [
    "from pathlib import Path"
   ]
  },
  {
   "cell_type": "code",
   "execution_count": 13,
   "metadata": {},
   "outputs": [],
   "source": [
    "stem = Path(\"/project/amp/brianpm/TemperatureExtremes/Regridded\")\n",
    "ds = xr.open_dataset(stem/\"f.e13.FAMIPC5CN.ne30_ne30.beta17.t3.cam.h1.TREFMXAV.19650101-20051231.regrid.nc\", decode_times=False)"
   ]
  },
  {
   "cell_type": "code",
   "execution_count": 17,
   "metadata": {},
   "outputs": [
    {
     "name": "stdout",
     "output_type": "stream",
     "text": [
      "<xarray.Dataset>\n",
      "Dimensions:       (ilev: 31, lat: 360, lev: 30, lon: 720, nbnd: 2, time: 14966)\n",
      "Coordinates:\n",
      "  * lat           (lat) float64 89.75 89.25 88.75 88.25 ... -88.75 -89.25 -89.75\n",
      "  * lon           (lon) float64 0.25 0.75 1.25 1.75 ... 358.2 358.8 359.2 359.8\n",
      "  * ilev          (ilev) float64 2.255 5.032 10.16 18.56 ... 967.5 985.1 1e+03\n",
      "  * lev           (lev) float64 3.643 7.595 14.36 24.61 ... 957.5 976.3 992.6\n",
      "  * time          (time) object 1965-01-01 00:00:00 ... 2005-12-31 12:00:00\n",
      "Dimensions without coordinates: nbnd\n",
      "Data variables:\n",
      "    lat_bnds      (lat, nbnd) float64 ...\n",
      "    lon_bnds      (lon, nbnd) float64 ...\n",
      "    gw            (lat) float64 ...\n",
      "    area          (lat, lon) float64 ...\n",
      "    P0            float64 ...\n",
      "    TREFMXAV      (time, lat, lon) float32 ...\n",
      "    ch4vmr        (time) float64 ...\n",
      "    co2vmr        (time) float64 ...\n",
      "    date          (time) int32 ...\n",
      "    date_written  (time) |S8 ...\n",
      "    datesec       (time) int32 ...\n",
      "    f11vmr        (time) float64 ...\n",
      "    f12vmr        (time) float64 ...\n",
      "    hyai          (ilev) float64 ...\n",
      "    hyam          (lev) float64 ...\n",
      "    hybi          (ilev) float64 ...\n",
      "    hybm          (lev) float64 ...\n",
      "    mdt           int32 ...\n",
      "    n2ovmr        (time) float64 ...\n",
      "    nbdate        int32 ...\n",
      "    nbsec         int32 ...\n",
      "    ndbase        int32 ...\n",
      "    ndcur         (time) int32 ...\n",
      "    nsbase        int32 ...\n",
      "    nscur         (time) int32 ...\n",
      "    nsteph        (time) int32 ...\n",
      "    ntrk          int32 ...\n",
      "    ntrm          int32 ...\n",
      "    ntrn          int32 ...\n",
      "    sol_tsi       (time) float64 ...\n",
      "    time_bnds     (time, nbnd) object ...\n",
      "    time_written  (time) |S8 ...\n",
      "Attributes:\n",
      "    np:                        4\n",
      "    ne:                        30\n",
      "    Conventions:               CF-1.0\n",
      "    source:                    CAM\n",
      "    case:                      f.e13.FAMIPC5CN.ne30_ne30.beta17.t3\n",
      "    title:                     UNSET\n",
      "    logname:                   nanr\n",
      "    host:                      r1i0n2\n",
      "    Version:                   $Name$\n",
      "    revision_Id:               $Id$\n",
      "    initial_file:              b.e13.B1850C5CN.ne30_g16.sehires22_CNTL.009.ca...\n",
      "    topography_file:           /glade/p/cesmdata/cseg/inputdata/atm/cam/topo/...\n",
      "    history:                   Thu Jun  6 09:49:12 2019: ncks -O -t 2 --no_tm...\n",
      "    remap_script:              ncremap\n",
      "    remap_command:             '/project/amp/brianpm/miniconda3/bin/ncremap -...\n",
      "    remap_hostname:            topaz.cgd.ucar.edu\n",
      "    remap_version:             4.7.9\n",
      "    NCO:                       netCDF Operators version 4.7.9 (Homepage = htt...\n",
      "    nco_openmp_thread_number:  2\n",
      "    map_file:                  map_ne30_to_halfdegree.nc\n",
      "    input_file:                /project/amp/brianpm/TemperatureExtremes/TREFM...\n"
     ]
    }
   ],
   "source": [
    "tb = ds['time_bnds']\n",
    "ds['time'].values = tb.mean(dim='nbnd')\n",
    "ds = xr.decode_cf(ds)\n",
    "print(ds)"
   ]
  },
  {
   "cell_type": "code",
   "execution_count": 16,
   "metadata": {},
   "outputs": [
    {
     "data": {
      "text/plain": [
       "<xarray.DataArray 'time' (time: 14966)>\n",
       "array([0.00000e+00, 5.00000e-01, 1.50000e+00, ..., 1.49625e+04, 1.49635e+04,\n",
       "       1.49645e+04])\n",
       "Coordinates:\n",
       "  * time     (time) float64 0.0 0.5 1.5 2.5 ... 1.496e+04 1.496e+04 1.496e+04\n",
       "Attributes:\n",
       "    long_name:  time\n",
       "    units:      days since 1965-01-01 00:00:00\n",
       "    calendar:   noleap\n",
       "    bounds:     time_bnds"
      ]
     },
     "execution_count": 16,
     "metadata": {},
     "output_type": "execute_result"
    }
   ],
   "source": [
    "ds['time']"
   ]
  },
  {
   "cell_type": "code",
   "execution_count": 18,
   "metadata": {},
   "outputs": [],
   "source": [
    "sacramento = (38. + 33/60,  360. - (121. + 28/60))\n",
    "sac_tmax = ds['TREFMXAV'].sel(lat=sacramento[0], lon=sacramento[1], method='nearest')"
   ]
  },
  {
   "cell_type": "code",
   "execution_count": 19,
   "metadata": {},
   "outputs": [
    {
     "data": {
      "text/plain": [
       "<xarray.DataArray 'TREFMXAV' (time: 14966)>\n",
       "array([282.16833, 282.16833, 278.39264, ..., 282.98932, 284.37402, 282.28073],\n",
       "      dtype=float32)\n",
       "Coordinates:\n",
       "    lat      float64 38.75\n",
       "    lon      float64 238.8\n",
       "  * time     (time) object 1965-01-01 00:00:00 ... 2005-12-31 12:00:00\n",
       "Attributes:\n",
       "    units:          K\n",
       "    long_name:      Average of TREFHT daily maximum\n",
       "    cell_methods:   time: mean\n",
       "    cell_measures:  area: area"
      ]
     },
     "execution_count": 19,
     "metadata": {},
     "output_type": "execute_result"
    }
   ],
   "source": [
    "sac_tmax"
   ]
  },
  {
   "cell_type": "code",
   "execution_count": 20,
   "metadata": {},
   "outputs": [
    {
     "data": {
      "text/plain": [
       "<xarray.DataArray 'TREFMXAV' ()>\n",
       "array(False)\n",
       "Coordinates:\n",
       "    lat      float64 38.75\n",
       "    lon      float64 238.8"
      ]
     },
     "execution_count": 20,
     "metadata": {},
     "output_type": "execute_result"
    }
   ],
   "source": [
    "np.any(sac_tmax == np.nan)"
   ]
  },
  {
   "cell_type": "code",
   "execution_count": 21,
   "metadata": {},
   "outputs": [
    {
     "data": {
      "text/plain": [
       "<xarray.DataArray 'TREFMXAV' ()>\n",
       "array(294.1676, dtype=float32)\n",
       "Coordinates:\n",
       "    lat      float64 38.75\n",
       "    lon      float64 238.8"
      ]
     },
     "execution_count": 21,
     "metadata": {},
     "output_type": "execute_result"
    }
   ],
   "source": [
    "np.mean(sac_tmax)"
   ]
  },
  {
   "cell_type": "code",
   "execution_count": 23,
   "metadata": {},
   "outputs": [
    {
     "name": "stdout",
     "output_type": "stream",
     "text": [
      "14966\n",
      "CPU times: user 2.95 ms, sys: 912 µs, total: 3.86 ms\n",
      "Wall time: 3.72 ms\n"
     ]
    }
   ],
   "source": [
    "%%time\n",
    "s = 0\n",
    "for i in range(14966):\n",
    "    s += 1\n",
    "print(s)    "
   ]
  },
  {
   "cell_type": "code",
   "execution_count": 30,
   "metadata": {},
   "outputs": [
    {
     "name": "stdout",
     "output_type": "stream",
     "text": [
      "<xarray.DataArray 'TREFMXAV' ()>\n",
      "array(4402512.5, dtype=float32)\n",
      "Coordinates:\n",
      "    lat      float64 38.75\n",
      "    lon      float64 238.8\n",
      "CPU times: user 40 s, sys: 1.2 s, total: 41.2 s\n",
      "Wall time: 41.2 s\n"
     ]
    }
   ],
   "source": [
    "%%time\n",
    "print(sac_tmax.sum())"
   ]
  },
  {
   "cell_type": "code",
   "execution_count": 25,
   "metadata": {},
   "outputs": [],
   "source": [
    "sample = np.ones((14966,))"
   ]
  },
  {
   "cell_type": "code",
   "execution_count": 28,
   "metadata": {},
   "outputs": [
    {
     "data": {
      "text/plain": [
       "True"
      ]
     },
     "execution_count": 28,
     "metadata": {},
     "output_type": "execute_result"
    }
   ],
   "source": [
    "sample.shape == sac_tmax.shape"
   ]
  },
  {
   "cell_type": "code",
   "execution_count": 29,
   "metadata": {},
   "outputs": [
    {
     "name": "stdout",
     "output_type": "stream",
     "text": [
      "14966.0\n",
      "CPU times: user 527 µs, sys: 37 µs, total: 564 µs\n",
      "Wall time: 349 µs\n"
     ]
    }
   ],
   "source": [
    "%%time\n",
    "print(sample.sum())"
   ]
  },
  {
   "cell_type": "code",
   "execution_count": 31,
   "metadata": {},
   "outputs": [
    {
     "name": "stdout",
     "output_type": "stream",
     "text": [
      "CPU times: user 40 s, sys: 1.16 s, total: 41.2 s\n",
      "Wall time: 41.2 s\n"
     ]
    }
   ],
   "source": [
    "%%time\n",
    "tmx = sac_tmax.values"
   ]
  },
  {
   "cell_type": "code",
   "execution_count": 32,
   "metadata": {},
   "outputs": [
    {
     "name": "stdout",
     "output_type": "stream",
     "text": [
      "4402512.5\n",
      "CPU times: user 264 µs, sys: 0 ns, total: 264 µs\n",
      "Wall time: 195 µs\n"
     ]
    }
   ],
   "source": [
    "%%time\n",
    "print(tmx.sum())"
   ]
  },
  {
   "cell_type": "code",
   "execution_count": 42,
   "metadata": {},
   "outputs": [
    {
     "name": "stdout",
     "output_type": "stream",
     "text": [
      "[280.08330597 286.30161896 293.64672852 302.42931671 306.71816833\n",
      " 308.57774902 311.83853088]\n",
      "CPU times: user 5.03 ms, sys: 59 µs, total: 5.08 ms\n",
      "Wall time: 3.99 ms\n"
     ]
    }
   ],
   "source": [
    "%%time\n",
    "print(mquantiles(tmx, prob=[.05, .25, .50, .75, .90, .95, .99], limit=(200, 400)))"
   ]
  },
  {
   "cell_type": "code",
   "execution_count": 43,
   "metadata": {},
   "outputs": [
    {
     "name": "stdout",
     "output_type": "stream",
     "text": [
      "[280.08447266 286.30200958 293.64672852 302.4272995  306.71812439\n",
      " 308.57662964 311.81681824]\n",
      "CPU times: user 1.61 ms, sys: 1.01 ms, total: 2.62 ms\n",
      "Wall time: 1.62 ms\n"
     ]
    }
   ],
   "source": [
    "%%time\n",
    "print(np.nanquantile(tmx, [.05, .25, .50, .75,.90, .95, .99]))"
   ]
  },
  {
   "cell_type": "code",
   "execution_count": null,
   "metadata": {},
   "outputs": [],
   "source": []
  }
 ],
 "metadata": {
  "kernelspec": {
   "display_name": "Python 3",
   "language": "python",
   "name": "python3"
  },
  "language_info": {
   "codemirror_mode": {
    "name": "ipython",
    "version": 3
   },
   "file_extension": ".py",
   "mimetype": "text/x-python",
   "name": "python",
   "nbconvert_exporter": "python",
   "pygments_lexer": "ipython3",
   "version": "3.7.3"
  }
 },
 "nbformat": 4,
 "nbformat_minor": 2
}
