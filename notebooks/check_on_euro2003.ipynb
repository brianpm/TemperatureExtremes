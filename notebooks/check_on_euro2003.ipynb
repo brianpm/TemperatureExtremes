{
 "cells": [
  {
   "cell_type": "code",
   "execution_count": 1,
   "metadata": {},
   "outputs": [],
   "source": [
    "# look especially 20 July to 20 Aug"
   ]
  },
  {
   "cell_type": "code",
   "execution_count": 17,
   "metadata": {},
   "outputs": [],
   "source": [
    "import numpy as np\n",
    "import xarray as xr\n",
    "import matplotlib as mpl\n",
    "import matplotlib.pyplot as plt\n",
    "import cartopy.crs as ccrs"
   ]
  },
  {
   "cell_type": "code",
   "execution_count": 3,
   "metadata": {},
   "outputs": [],
   "source": [
    "detection_ds = xr.open_dataset(\"/project/amp/brianpm/TemperatureExtremes/Derived/CPC_tmax_90pct_event_detection.nc\")"
   ]
  },
  {
   "cell_type": "code",
   "execution_count": 9,
   "metadata": {},
   "outputs": [
    {
     "data": {
      "text/plain": [
       "<xarray.DataArray 'lon' (lon: 720)>\n",
       "array([2.5000e-01, 7.5000e-01, 1.2500e+00, ..., 3.5875e+02, 3.5925e+02,\n",
       "       3.5975e+02], dtype=float32)\n",
       "Coordinates:\n",
       "  * lon      (lon) float32 0.25 0.75 1.25 1.75 ... 358.25 358.75 359.25 359.75\n",
       "Attributes:\n",
       "    long_name:           Longitude\n",
       "    units:               degrees_east\n",
       "    axis:                X\n",
       "    standard_name:       longitude\n",
       "    actual_range:        [2.5000e-01 3.5975e+02]\n",
       "    coordinate_defines:  center"
      ]
     },
     "execution_count": 9,
     "metadata": {},
     "output_type": "execute_result"
    }
   ],
   "source": [
    "detection_ds['lon']"
   ]
  },
  {
   "cell_type": "code",
   "execution_count": 5,
   "metadata": {},
   "outputs": [],
   "source": [
    "events = detection_ds['Event_ID']"
   ]
  },
  {
   "cell_type": "code",
   "execution_count": 8,
   "metadata": {},
   "outputs": [],
   "source": [
    "interval = events.sel(time=slice(\"2003-07-01\", \"2003-09-01\"))"
   ]
  },
  {
   "cell_type": "code",
   "execution_count": 10,
   "metadata": {},
   "outputs": [
    {
     "data": {
      "text/plain": [
       "<xarray.DataArray 'Event_ID' (time: 63)>\n",
       "array([  0.,   0.,   0.,   0.,   0.,   0.,   0.,   0.,   0.,   0.,   0., 370.,\n",
       "       370., 370., 370.,   0.,   0.,   0., 371., 371.,   0.,   0.,   0.,   0.,\n",
       "         0., 372.,   0.,   0.,   0.,   0.,   0.,   0., 373., 373., 373., 373.,\n",
       "       373., 373., 373., 373., 373., 373., 373., 373., 373.,   0., 374.,   0.,\n",
       "         0.,   0.,   0.,   0.,   0., 375., 375.,   0.,   0., 376., 376.,   0.,\n",
       "         0.,   0.,   0.])\n",
       "Coordinates:\n",
       "    lat      float32 45.25\n",
       "    lon      float32 5.75\n",
       "  * time     (time) datetime64[ns] 2003-07-01 2003-07-02 ... 2003-09-01\n",
       "Attributes:\n",
       "    long_name:  Event ID Number based on Tmax > 90th percentile"
      ]
     },
     "execution_count": 10,
     "metadata": {},
     "output_type": "execute_result"
    }
   ],
   "source": [
    "# Grenoble: 45°10′18″N 5°43′21″E\n",
    "interval.sel(lat=(45+(1/6)+(18/3600)), lon=(5+(43/60)+(21/3600)), method='nearest')"
   ]
  },
  {
   "cell_type": "code",
   "execution_count": 11,
   "metadata": {},
   "outputs": [
    {
     "data": {
      "text/plain": [
       "<xarray.DataArray 'Event_ID' (time: 63)>\n",
       "array([  0.,   0.,   0.,   0.,   0.,   0.,   0.,   0.,   0., 425., 425.,   0.,\n",
       "       426., 426., 426.,   0.,   0.,   0., 427.,   0.,   0.,   0.,   0.,   0.,\n",
       "         0.,   0.,   0.,   0.,   0.,   0.,   0.,   0.,   0., 428., 428., 428.,\n",
       "       428., 428., 428., 428., 428., 428., 428., 428.,   0.,   0.,   0.,   0.,\n",
       "         0.,   0.,   0.,   0.,   0.,   0.,   0.,   0.,   0.,   0.,   0.,   0.,\n",
       "         0.,   0.,   0.])\n",
       "Coordinates:\n",
       "    lat      float32 48.75\n",
       "    lon      float32 2.25\n",
       "  * time     (time) datetime64[ns] 2003-07-01 2003-07-02 ... 2003-09-01\n",
       "Attributes:\n",
       "    long_name:  Event ID Number based on Tmax > 90th percentile"
      ]
     },
     "execution_count": 11,
     "metadata": {},
     "output_type": "execute_result"
    }
   ],
   "source": [
    "# Paris: 48°51′24″N 2°21′03″E\n",
    "Paris = (48 + (51/60) + (24/3600), 2 +  (21/60) + (3/3600))\n",
    "\n",
    "interval.sel(lat=Paris[0], lon=Paris[1], method='nearest')"
   ]
  },
  {
   "cell_type": "code",
   "execution_count": 15,
   "metadata": {},
   "outputs": [
    {
     "data": {
      "text/plain": [
       "(63, 360, 720)"
      ]
     },
     "execution_count": 15,
     "metadata": {},
     "output_type": "execute_result"
    }
   ],
   "source": [
    "interval.shape #.values.nonzero()"
   ]
  },
  {
   "cell_type": "code",
   "execution_count": 18,
   "metadata": {},
   "outputs": [
    {
     "data": {
      "text/plain": [
       "<xarray.DataArray 'Event_ID' (lat: 360, lon: 720)>\n",
       "array([[0, 0, 0, ..., 0, 0, 0],\n",
       "       [0, 0, 0, ..., 0, 0, 0],\n",
       "       [0, 0, 0, ..., 0, 0, 0],\n",
       "       ...,\n",
       "       [0, 0, 0, ..., 0, 0, 0],\n",
       "       [0, 0, 0, ..., 0, 0, 0],\n",
       "       [0, 0, 0, ..., 0, 0, 0]])\n",
       "Coordinates:\n",
       "  * lat      (lat) float32 89.75 89.25 88.75 88.25 ... -88.75 -89.25 -89.75\n",
       "  * lon      (lon) float32 0.25 0.75 1.25 1.75 ... 358.25 358.75 359.25 359.75"
      ]
     },
     "execution_count": 18,
     "metadata": {},
     "output_type": "execute_result"
    }
   ],
   "source": [
    "days_mask = xr.where(interval > 0, 1, 0)\n",
    "days_count = days_mask.sum(dim='time')\n",
    "days_count"
   ]
  },
  {
   "cell_type": "code",
   "execution_count": 63,
   "metadata": {},
   "outputs": [],
   "source": [
    "lon_orig = days_count['lon']\n",
    "x_rolled = days_count.assign_coords(lon=(np.where( lon_orig['lon'] >= 180, lon_orig['lon'] - 360, lon_orig['lon'])))\n",
    "x_rolled = x_rolled.roll(lon=(len(lon_orig) // 2), roll_coords=False)\n",
    "# assign_coords(lon=(np.where( lon_orig >= 180, -1* (lon_orig % 180), lon_orig)))."
   ]
  },
  {
   "cell_type": "code",
   "execution_count": 64,
   "metadata": {},
   "outputs": [
    {
     "data": {
      "text/plain": [
       "array([   0,    0,    1,    1,    2,    2,    3,    3,    4,    4,    5,\n",
       "          5,    6,    6,    7,    7,    8,    8,    9,    9,   10,   10,\n",
       "         11,   11,   12,   12,   13,   13,   14,   14,   15,   15,   16,\n",
       "         16,   17,   17,   18,   18,   19,   19,   20,   20,   21,   21,\n",
       "         22,   22,   23,   23,   24,   24,   25,   25,   26,   26,   27,\n",
       "         27,   28,   28,   29,   29,   30,   30,   31,   31,   32,   32,\n",
       "         33,   33,   34,   34,   35,   35,   36,   36,   37,   37,   38,\n",
       "         38,   39,   39,   40,   40,   41,   41,   42,   42,   43,   43,\n",
       "         44,   44,   45,   45,   46,   46,   47,   47,   48,   48,   49,\n",
       "         49,   50,   50,   51,   51,   52,   52,   53,   53,   54,   54,\n",
       "         55,   55,   56,   56,   57,   57,   58,   58,   59,   59,   60,\n",
       "         60,   61,   61,   62,   62,   63,   63,   64,   64,   65,   65,\n",
       "         66,   66,   67,   67,   68,   68,   69,   69,   70,   70,   71,\n",
       "         71,   72,   72,   73,   73,   74,   74,   75,   75,   76,   76,\n",
       "         77,   77,   78,   78,   79,   79,   80,   80,   81,   81,   82,\n",
       "         82,   83,   83,   84,   84,   85,   85,   86,   86,   87,   87,\n",
       "         88,   88,   89,   89,   90,   90,   91,   91,   92,   92,   93,\n",
       "         93,   94,   94,   95,   95,   96,   96,   97,   97,   98,   98,\n",
       "         99,   99,  100,  100,  101,  101,  102,  102,  103,  103,  104,\n",
       "        104,  105,  105,  106,  106,  107,  107,  108,  108,  109,  109,\n",
       "        110,  110,  111,  111,  112,  112,  113,  113,  114,  114,  115,\n",
       "        115,  116,  116,  117,  117,  118,  118,  119,  119,  120,  120,\n",
       "        121,  121,  122,  122,  123,  123,  124,  124,  125,  125,  126,\n",
       "        126,  127,  127,  128,  128,  129,  129,  130,  130,  131,  131,\n",
       "        132,  132,  133,  133,  134,  134,  135,  135,  136,  136,  137,\n",
       "        137,  138,  138,  139,  139,  140,  140,  141,  141,  142,  142,\n",
       "        143,  143,  144,  144,  145,  145,  146,  146,  147,  147,  148,\n",
       "        148,  149,  149,  150,  150,  151,  151,  152,  152,  153,  153,\n",
       "        154,  154,  155,  155,  156,  156,  157,  157,  158,  158,  159,\n",
       "        159,  160,  160,  161,  161,  162,  162,  163,  163,  164,  164,\n",
       "        165,  165,  166,  166,  167,  167,  168,  168,  169,  169,  170,\n",
       "        170,  171,  171,  172,  172,  173,  173,  174,  174,  175,  175,\n",
       "        176,  176,  177,  177,  178,  178,  179,  179, -179, -179, -178,\n",
       "       -178, -177, -177, -176, -176, -175, -175, -174, -174, -173, -173,\n",
       "       -172, -172, -171, -171, -170, -170, -169, -169, -168, -168, -167,\n",
       "       -167, -166, -166, -165, -165, -164, -164, -163, -163, -162, -162,\n",
       "       -161, -161, -160, -160, -159, -159, -158, -158, -157, -157, -156,\n",
       "       -156, -155, -155, -154, -154, -153, -153, -152, -152, -151, -151,\n",
       "       -150, -150, -149, -149, -148, -148, -147, -147, -146, -146, -145,\n",
       "       -145, -144, -144, -143, -143, -142, -142, -141, -141, -140, -140,\n",
       "       -139, -139, -138, -138, -137, -137, -136, -136, -135, -135, -134,\n",
       "       -134, -133, -133, -132, -132, -131, -131, -130, -130, -129, -129,\n",
       "       -128, -128, -127, -127, -126, -126, -125, -125, -124, -124, -123,\n",
       "       -123, -122, -122, -121, -121, -120, -120, -119, -119, -118, -118,\n",
       "       -117, -117, -116, -116, -115, -115, -114, -114, -113, -113, -112,\n",
       "       -112, -111, -111, -110, -110, -109, -109, -108, -108, -107, -107,\n",
       "       -106, -106, -105, -105, -104, -104, -103, -103, -102, -102, -101,\n",
       "       -101, -100, -100,  -99,  -99,  -98,  -98,  -97,  -97,  -96,  -96,\n",
       "        -95,  -95,  -94,  -94,  -93,  -93,  -92,  -92,  -91,  -91,  -90,\n",
       "        -90,  -89,  -89,  -88,  -88,  -87,  -87,  -86,  -86,  -85,  -85,\n",
       "        -84,  -84,  -83,  -83,  -82,  -82,  -81,  -81,  -80,  -80,  -79,\n",
       "        -79,  -78,  -78,  -77,  -77,  -76,  -76,  -75,  -75,  -74,  -74,\n",
       "        -73,  -73,  -72,  -72,  -71,  -71,  -70,  -70,  -69,  -69,  -68,\n",
       "        -68,  -67,  -67,  -66,  -66,  -65,  -65,  -64,  -64,  -63,  -63,\n",
       "        -62,  -62,  -61,  -61,  -60,  -60,  -59,  -59,  -58,  -58,  -57,\n",
       "        -57,  -56,  -56,  -55,  -55,  -54,  -54,  -53,  -53,  -52,  -52,\n",
       "        -51,  -51,  -50,  -50,  -49,  -49,  -48,  -48,  -47,  -47,  -46,\n",
       "        -46,  -45,  -45,  -44,  -44,  -43,  -43,  -42,  -42,  -41,  -41,\n",
       "        -40,  -40,  -39,  -39,  -38,  -38,  -37,  -37,  -36,  -36,  -35,\n",
       "        -35,  -34,  -34,  -33,  -33,  -32,  -32,  -31,  -31,  -30,  -30,\n",
       "        -29,  -29,  -28,  -28,  -27,  -27,  -26,  -26,  -25,  -25,  -24,\n",
       "        -24,  -23,  -23,  -22,  -22,  -21,  -21,  -20,  -20,  -19,  -19,\n",
       "        -18,  -18,  -17,  -17,  -16,  -16,  -15,  -15,  -14,  -14,  -13,\n",
       "        -13,  -12,  -12,  -11,  -11,  -10,  -10,   -9,   -9,   -8,   -8,\n",
       "         -7,   -7,   -6,   -6,   -5,   -5,   -4,   -4,   -3,   -3,   -2,\n",
       "         -2,   -1,   -1,    0,    0])"
      ]
     },
     "execution_count": 64,
     "metadata": {},
     "output_type": "execute_result"
    }
   ],
   "source": [
    "x_rolled['lon'].values.astype(int)"
   ]
  },
  {
   "cell_type": "code",
   "execution_count": 79,
   "metadata": {},
   "outputs": [
    {
     "data": {
      "text/plain": [
       "<matplotlib.colorbar.Colorbar at 0x7f432f102668>"
      ]
     },
     "execution_count": 79,
     "metadata": {},
     "output_type": "execute_result"
    },
    {
     "data": {
      "image/png": "[encoded data removed]",
      "text/plain": [
       "<Figure size 432x288 with 2 Axes>"
      ]
     },
     "metadata": {
      "needs_background": "light"
     },
     "output_type": "display_data"
    }
   ],
   "source": [
    "fig, ax = plt.subplots(subplot_kw={\"projection\":ccrs.Robinson()})\n",
    "lons, lats = np.meshgrid(x_rolled['lon'], days_count['lat'])\n",
    "img = ax.pcolormesh(lons, lats, days_count, transform=ccrs.PlateCarree(), vmin=5, vmax=40)\n",
    "ax.set_extent((-20, 45, 30, 70))\n",
    "fig.colorbar(img)"
   ]
  },
  {
   "cell_type": "code",
   "execution_count": 66,
   "metadata": {},
   "outputs": [
    {
     "data": {
      "text/plain": [
       "<xarray.DataArray 'Event_ID' (lat: 360, lon: 720)>\n",
       "array([[0, 0, 0, ..., 0, 0, 0],\n",
       "       [0, 0, 0, ..., 0, 0, 0],\n",
       "       [0, 0, 0, ..., 0, 0, 0],\n",
       "       ...,\n",
       "       [0, 0, 0, ..., 0, 0, 0],\n",
       "       [0, 0, 0, ..., 0, 0, 0],\n",
       "       [0, 0, 0, ..., 0, 0, 0]])\n",
       "Coordinates:\n",
       "  * lat      (lat) float32 89.75 89.25 88.75 88.25 ... -88.75 -89.25 -89.75\n",
       "  * lon      (lon) float32 0.25 0.75 1.25 1.75 2.25 ... -1.75 -1.25 -0.75 -0.25"
      ]
     },
     "execution_count": 66,
     "metadata": {},
     "output_type": "execute_result"
    }
   ],
   "source": [
    "x_rolled"
   ]
  },
  {
   "cell_type": "code",
   "execution_count": 67,
   "metadata": {},
   "outputs": [
    {
     "data": {
      "text/plain": [
       "array([   0.25,    0.75,    1.25,    1.75,    2.25,    2.75,    3.25,\n",
       "          3.75,    4.25,    4.75,    5.25,    5.75,    6.25,    6.75,\n",
       "          7.25,    7.75,    8.25,    8.75,    9.25,    9.75,   10.25,\n",
       "         10.75,   11.25,   11.75,   12.25,   12.75,   13.25,   13.75,\n",
       "         14.25,   14.75,   15.25,   15.75,   16.25,   16.75,   17.25,\n",
       "         17.75,   18.25,   18.75,   19.25,   19.75,   20.25,   20.75,\n",
       "         21.25,   21.75,   22.25,   22.75,   23.25,   23.75,   24.25,\n",
       "         24.75,   25.25,   25.75,   26.25,   26.75,   27.25,   27.75,\n",
       "         28.25,   28.75,   29.25,   29.75,   30.25,   30.75,   31.25,\n",
       "         31.75,   32.25,   32.75,   33.25,   33.75,   34.25,   34.75,\n",
       "         35.25,   35.75,   36.25,   36.75,   37.25,   37.75,   38.25,\n",
       "         38.75,   39.25,   39.75,   40.25,   40.75,   41.25,   41.75,\n",
       "         42.25,   42.75,   43.25,   43.75,   44.25,   44.75,   45.25,\n",
       "         45.75,   46.25,   46.75,   47.25,   47.75,   48.25,   48.75,\n",
       "         49.25,   49.75,   50.25,   50.75,   51.25,   51.75,   52.25,\n",
       "         52.75,   53.25,   53.75,   54.25,   54.75,   55.25,   55.75,\n",
       "         56.25,   56.75,   57.25,   57.75,   58.25,   58.75,   59.25,\n",
       "         59.75,   60.25,   60.75,   61.25,   61.75,   62.25,   62.75,\n",
       "         63.25,   63.75,   64.25,   64.75,   65.25,   65.75,   66.25,\n",
       "         66.75,   67.25,   67.75,   68.25,   68.75,   69.25,   69.75,\n",
       "         70.25,   70.75,   71.25,   71.75,   72.25,   72.75,   73.25,\n",
       "         73.75,   74.25,   74.75,   75.25,   75.75,   76.25,   76.75,\n",
       "         77.25,   77.75,   78.25,   78.75,   79.25,   79.75,   80.25,\n",
       "         80.75,   81.25,   81.75,   82.25,   82.75,   83.25,   83.75,\n",
       "         84.25,   84.75,   85.25,   85.75,   86.25,   86.75,   87.25,\n",
       "         87.75,   88.25,   88.75,   89.25,   89.75,   90.25,   90.75,\n",
       "         91.25,   91.75,   92.25,   92.75,   93.25,   93.75,   94.25,\n",
       "         94.75,   95.25,   95.75,   96.25,   96.75,   97.25,   97.75,\n",
       "         98.25,   98.75,   99.25,   99.75,  100.25,  100.75,  101.25,\n",
       "        101.75,  102.25,  102.75,  103.25,  103.75,  104.25,  104.75,\n",
       "        105.25,  105.75,  106.25,  106.75,  107.25,  107.75,  108.25,\n",
       "        108.75,  109.25,  109.75,  110.25,  110.75,  111.25,  111.75,\n",
       "        112.25,  112.75,  113.25,  113.75,  114.25,  114.75,  115.25,\n",
       "        115.75,  116.25,  116.75,  117.25,  117.75,  118.25,  118.75,\n",
       "        119.25,  119.75,  120.25,  120.75,  121.25,  121.75,  122.25,\n",
       "        122.75,  123.25,  123.75,  124.25,  124.75,  125.25,  125.75,\n",
       "        126.25,  126.75,  127.25,  127.75,  128.25,  128.75,  129.25,\n",
       "        129.75,  130.25,  130.75,  131.25,  131.75,  132.25,  132.75,\n",
       "        133.25,  133.75,  134.25,  134.75,  135.25,  135.75,  136.25,\n",
       "        136.75,  137.25,  137.75,  138.25,  138.75,  139.25,  139.75,\n",
       "        140.25,  140.75,  141.25,  141.75,  142.25,  142.75,  143.25,\n",
       "        143.75,  144.25,  144.75,  145.25,  145.75,  146.25,  146.75,\n",
       "        147.25,  147.75,  148.25,  148.75,  149.25,  149.75,  150.25,\n",
       "        150.75,  151.25,  151.75,  152.25,  152.75,  153.25,  153.75,\n",
       "        154.25,  154.75,  155.25,  155.75,  156.25,  156.75,  157.25,\n",
       "        157.75,  158.25,  158.75,  159.25,  159.75,  160.25,  160.75,\n",
       "        161.25,  161.75,  162.25,  162.75,  163.25,  163.75,  164.25,\n",
       "        164.75,  165.25,  165.75,  166.25,  166.75,  167.25,  167.75,\n",
       "        168.25,  168.75,  169.25,  169.75,  170.25,  170.75,  171.25,\n",
       "        171.75,  172.25,  172.75,  173.25,  173.75,  174.25,  174.75,\n",
       "        175.25,  175.75,  176.25,  176.75,  177.25,  177.75,  178.25,\n",
       "        178.75,  179.25,  179.75,   -0.25,   -0.75,   -1.25,   -1.75,\n",
       "         -2.25,   -2.75,   -3.25,   -3.75,   -4.25,   -4.75,   -5.25,\n",
       "         -5.75,   -6.25,   -6.75,   -7.25,   -7.75,   -8.25,   -8.75,\n",
       "         -9.25,   -9.75,  -10.25,  -10.75,  -11.25,  -11.75,  -12.25,\n",
       "        -12.75,  -13.25,  -13.75,  -14.25,  -14.75,  -15.25,  -15.75,\n",
       "        -16.25,  -16.75,  -17.25,  -17.75,  -18.25,  -18.75,  -19.25,\n",
       "        -19.75,  -20.25,  -20.75,  -21.25,  -21.75,  -22.25,  -22.75,\n",
       "        -23.25,  -23.75,  -24.25,  -24.75,  -25.25,  -25.75,  -26.25,\n",
       "        -26.75,  -27.25,  -27.75,  -28.25,  -28.75,  -29.25,  -29.75,\n",
       "        -30.25,  -30.75,  -31.25,  -31.75,  -32.25,  -32.75,  -33.25,\n",
       "        -33.75,  -34.25,  -34.75,  -35.25,  -35.75,  -36.25,  -36.75,\n",
       "        -37.25,  -37.75,  -38.25,  -38.75,  -39.25,  -39.75,  -40.25,\n",
       "        -40.75,  -41.25,  -41.75,  -42.25,  -42.75,  -43.25,  -43.75,\n",
       "        -44.25,  -44.75,  -45.25,  -45.75,  -46.25,  -46.75,  -47.25,\n",
       "        -47.75,  -48.25,  -48.75,  -49.25,  -49.75,  -50.25,  -50.75,\n",
       "        -51.25,  -51.75,  -52.25,  -52.75,  -53.25,  -53.75,  -54.25,\n",
       "        -54.75,  -55.25,  -55.75,  -56.25,  -56.75,  -57.25,  -57.75,\n",
       "        -58.25,  -58.75,  -59.25,  -59.75,  -60.25,  -60.75,  -61.25,\n",
       "        -61.75,  -62.25,  -62.75,  -63.25,  -63.75,  -64.25,  -64.75,\n",
       "        -65.25,  -65.75,  -66.25,  -66.75,  -67.25,  -67.75,  -68.25,\n",
       "        -68.75,  -69.25,  -69.75,  -70.25,  -70.75,  -71.25,  -71.75,\n",
       "        -72.25,  -72.75,  -73.25,  -73.75,  -74.25,  -74.75,  -75.25,\n",
       "        -75.75,  -76.25,  -76.75,  -77.25,  -77.75,  -78.25,  -78.75,\n",
       "        -79.25,  -79.75,  -80.25,  -80.75,  -81.25,  -81.75,  -82.25,\n",
       "        -82.75,  -83.25,  -83.75,  -84.25,  -84.75,  -85.25,  -85.75,\n",
       "        -86.25,  -86.75,  -87.25,  -87.75,  -88.25,  -88.75,  -89.25,\n",
       "        -89.75,  -90.25,  -90.75,  -91.25,  -91.75,  -92.25,  -92.75,\n",
       "        -93.25,  -93.75,  -94.25,  -94.75,  -95.25,  -95.75,  -96.25,\n",
       "        -96.75,  -97.25,  -97.75,  -98.25,  -98.75,  -99.25,  -99.75,\n",
       "       -100.25, -100.75, -101.25, -101.75, -102.25, -102.75, -103.25,\n",
       "       -103.75, -104.25, -104.75, -105.25, -105.75, -106.25, -106.75,\n",
       "       -107.25, -107.75, -108.25, -108.75, -109.25, -109.75, -110.25,\n",
       "       -110.75, -111.25, -111.75, -112.25, -112.75, -113.25, -113.75,\n",
       "       -114.25, -114.75, -115.25, -115.75, -116.25, -116.75, -117.25,\n",
       "       -117.75, -118.25, -118.75, -119.25, -119.75, -120.25, -120.75,\n",
       "       -121.25, -121.75, -122.25, -122.75, -123.25, -123.75, -124.25,\n",
       "       -124.75, -125.25, -125.75, -126.25, -126.75, -127.25, -127.75,\n",
       "       -128.25, -128.75, -129.25, -129.75, -130.25, -130.75, -131.25,\n",
       "       -131.75, -132.25, -132.75, -133.25, -133.75, -134.25, -134.75,\n",
       "       -135.25, -135.75, -136.25, -136.75, -137.25, -137.75, -138.25,\n",
       "       -138.75, -139.25, -139.75, -140.25, -140.75, -141.25, -141.75,\n",
       "       -142.25, -142.75, -143.25, -143.75, -144.25, -144.75, -145.25,\n",
       "       -145.75, -146.25, -146.75, -147.25, -147.75, -148.25, -148.75,\n",
       "       -149.25, -149.75, -150.25, -150.75, -151.25, -151.75, -152.25,\n",
       "       -152.75, -153.25, -153.75, -154.25, -154.75, -155.25, -155.75,\n",
       "       -156.25, -156.75, -157.25, -157.75, -158.25, -158.75, -159.25,\n",
       "       -159.75, -160.25, -160.75, -161.25, -161.75, -162.25, -162.75,\n",
       "       -163.25, -163.75, -164.25, -164.75, -165.25, -165.75, -166.25,\n",
       "       -166.75, -167.25, -167.75, -168.25, -168.75, -169.25, -169.75,\n",
       "       -170.25, -170.75, -171.25, -171.75, -172.25, -172.75, -173.25,\n",
       "       -173.75, -174.25, -174.75, -175.25, -175.75, -176.25, -176.75,\n",
       "       -177.25, -177.75, -178.25, -178.75, -179.25, -179.75],\n",
       "      dtype=float32)"
      ]
     },
     "execution_count": 67,
     "metadata": {},
     "output_type": "execute_result"
    }
   ],
   "source": [
    "lon"
   ]
  },
  {
   "cell_type": "code",
   "execution_count": null,
   "metadata": {},
   "outputs": [],
   "source": []
  }
 ],
 "metadata": {
  "kernelspec": {
   "display_name": "Python 3",
   "language": "python",
   "name": "python3"
  },
  "language_info": {
   "codemirror_mode": {
    "name": "ipython",
    "version": 3
   },
   "file_extension": ".py",
   "mimetype": "text/x-python",
   "name": "python",
   "nbconvert_exporter": "python",
   "pygments_lexer": "ipython3",
   "version": "3.7.3"
  }
 },
 "nbformat": 4,
 "nbformat_minor": 4
}
