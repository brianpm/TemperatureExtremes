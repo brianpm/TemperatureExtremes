{
 "cells": [
  {
   "cell_type": "code",
   "execution_count": 161,
   "metadata": {},
   "outputs": [],
   "source": [
    "import numpy as np\n",
    "import matplotlib.pyplot as plt\n",
    "import xarray as xr"
   ]
  },
  {
   "cell_type": "code",
   "execution_count": 162,
   "metadata": {},
   "outputs": [],
   "source": [
    "ds = xr.open_mfdataset(\"/project/amp/jcaron/CPC_Tminmax/tmax.*.nc\")"
   ]
  },
  {
   "cell_type": "code",
   "execution_count": 163,
   "metadata": {},
   "outputs": [],
   "source": [
    "tmax = ds['tmax']"
   ]
  },
  {
   "cell_type": "code",
   "execution_count": 164,
   "metadata": {},
   "outputs": [],
   "source": [
    "atlanta = (33. + 45/60,  360. - (84. + 23/60))"
   ]
  },
  {
   "cell_type": "code",
   "execution_count": 165,
   "metadata": {},
   "outputs": [],
   "source": [
    "atlanta_tmax = tmax.sel(lat=atlanta[0], lon=atlanta[1], method='nearest')"
   ]
  },
  {
   "cell_type": "code",
   "execution_count": 166,
   "metadata": {},
   "outputs": [],
   "source": [
    "time = ds['time']\n",
    "independence_day = atlanta_tmax[(time.dt.month == 1) & (time.dt.day == 4)]"
   ]
  },
  {
   "cell_type": "code",
   "execution_count": 167,
   "metadata": {},
   "outputs": [],
   "source": [
    "def degC_to_degF(C):\n",
    "    return C * (9./5.) + 32."
   ]
  },
  {
   "cell_type": "code",
   "execution_count": 168,
   "metadata": {},
   "outputs": [],
   "source": [
    "in_f = degC_to_degF(independence_day)"
   ]
  },
  {
   "cell_type": "code",
   "execution_count": 169,
   "metadata": {},
   "outputs": [
    {
     "name": "stderr",
     "output_type": "stream",
     "text": [
      "/home/akwilson/miniconda3/lib/python3.7/site-packages/numpy/lib/function_base.py:3826: RuntimeWarning: Invalid value encountered in percentile\n",
      "  interpolation=interpolation)\n"
     ]
    },
    {
     "data": {
      "text/plain": [
       "nan"
      ]
     },
     "execution_count": 169,
     "metadata": {},
     "output_type": "execute_result"
    }
   ],
   "source": [
    "np.percentile(in_f, 90)\n",
    "# plt.fill_between(x2, y2=0, where=None, interpolate=False, step=None, data=None) "
   ]
  },
  {
   "cell_type": "code",
   "execution_count": 66,
   "metadata": {},
   "outputs": [
    {
     "data": {
      "text/plain": [
       "<matplotlib.lines.Line2D at 0x7fae34416278>"
      ]
     },
     "execution_count": 66,
     "metadata": {},
     "output_type": "execute_result"
    },
    {
     "data": {
      "image/png": "[encoded data removed]",
      "text/plain": [
       "<Figure size 432x288 with 1 Axes>"
      ]
     },
     "metadata": {
      "needs_background": "light"
     },
     "output_type": "display_data"
    }
   ],
   "source": [
    "#Histogram\n",
    "result = plt.hist(in_f, bins=20, color='c', edgecolor='k', alpha=0.65)\n",
    "plt.axvline(x=93.44, color='k', linestyle='dashed', linewidth=1)\n"
   ]
  },
  {
   "cell_type": "code",
   "execution_count": 67,
   "metadata": {},
   "outputs": [
    {
     "data": {
      "text/plain": [
       "<xarray.DataArray 'tmax' (time: 40)>\n",
       "array([93.09604 , 91.6852  , 84.72127 , 92.08972 , 89.53667 , 88.96251 ,\n",
       "       84.26498 , 89.978966, 85.47229 , 73.573814, 85.468216, 91.37704 ,\n",
       "       90.32772 , 87.67216 , 95.660126, 76.15252 , 89.20659 , 86.83444 ,\n",
       "       91.449974, 91.1073  , 88.95686 , 93.383766, 84.77115 , 88.95241 ,\n",
       "       86.7651  , 88.18002 , 86.791534, 94.00111 , 86.03052 , 90.25033 ,\n",
       "       90.548294, 85.39961 , 91.30022 , 97.14425 , 76.63323 , 84.15808 ,\n",
       "       84.80064 , 95.1569  , 90.07652 , 90.01907 ], dtype=float32)\n",
       "Coordinates:\n",
       "    lat      float32 33.75\n",
       "    lon      float32 275.75\n",
       "  * time     (time) datetime64[ns] 1979-07-04 1980-07-04 ... 2018-07-04"
      ]
     },
     "execution_count": 67,
     "metadata": {},
     "output_type": "execute_result"
    }
   ],
   "source": [
    "in_f.load()"
   ]
  },
  {
   "cell_type": "code",
   "execution_count": 68,
   "metadata": {},
   "outputs": [
    {
     "name": "stdout",
     "output_type": "stream",
     "text": [
      "<xarray.DataArray 'tmax' (time: 40)>\n",
      "array([93.09604 , 91.6852  , 84.72127 , 92.08972 , 89.53667 , 88.96251 ,\n",
      "       84.26498 , 89.978966, 85.47229 , 73.573814, 85.468216, 91.37704 ,\n",
      "       90.32772 , 87.67216 , 95.660126, 76.15252 , 89.20659 , 86.83444 ,\n",
      "       91.449974, 91.1073  , 88.95686 , 93.383766, 84.77115 , 88.95241 ,\n",
      "       86.7651  , 88.18002 , 86.791534, 94.00111 , 86.03052 , 90.25033 ,\n",
      "       90.548294, 85.39961 , 91.30022 , 97.14425 , 76.63323 , 84.15808 ,\n",
      "       84.80064 , 95.1569  , 90.07652 , 90.01907 ], dtype=float32)\n",
      "Coordinates:\n",
      "    lat      float32 33.75\n",
      "    lon      float32 275.75\n",
      "  * time     (time) datetime64[ns] 1979-07-04 1980-07-04 ... 2018-07-04\n"
     ]
    }
   ],
   "source": [
    "yvals = in_f.copy(deep=True)\n",
    "print(yvals)"
   ]
  },
  {
   "cell_type": "code",
   "execution_count": 71,
   "metadata": {},
   "outputs": [
    {
     "data": {
      "text/plain": [
       "Text(0, 0.5, 'Temperature (F)')"
      ]
     },
     "execution_count": 71,
     "metadata": {},
     "output_type": "execute_result"
    },
    {
     "data": {
      "image/png": "[encoded data removed]",
      "text/plain": [
       "<Figure size 432x288 with 1 Axes>"
      ]
     },
     "metadata": {
      "needs_background": "light"
     },
     "output_type": "display_data"
    }
   ],
   "source": [
    "yvals[:] = 90.0\n",
    "fig, ax = plt.subplots()\n",
    "ax.plot(np.linspace(0, len(in_f['time']), len(in_f['time'])), in_f)\n",
    "ax.fill_between(np.linspace(0, len(in_f['time']), len(in_f['time'])), where =(in_f>=90),\n",
    "                y1=yvals,\n",
    "                y2=in_f)\n",
    "plt.title('Atlanta 90p for July 4th')\n",
    "plt.ylabel('Temperature (F)')\n",
    "\n"
   ]
  },
  {
   "cell_type": "code",
   "execution_count": 39,
   "metadata": {},
   "outputs": [
    {
     "data": {
      "text/plain": [
       "<matplotlib.collections.PolyCollection at 0x7fae58309c50>"
      ]
     },
     "execution_count": 39,
     "metadata": {},
     "output_type": "execute_result"
    }
   ],
   "source": [
    "x1 = np.linspace(0, 40, 41)\n",
    "y = np.random.randint(2, 12, x.shape)\n",
    "fig, ax = plt.subplots()\n",
    "ax.plot(x, y)\n",
    "ax.fill_between(x, 8, y, where=(y >= 8), facecolor=\"crimson\", interpolate=True, alpha=0.5)"
   ]
  }
 ],
 "metadata": {
  "kernelspec": {
   "display_name": "Python 3",
   "language": "python",
   "name": "python3"
  },
  "language_info": {
   "codemirror_mode": {
    "name": "ipython",
    "version": 3
   },
   "file_extension": ".py",
   "mimetype": "text/x-python",
   "name": "python",
   "nbconvert_exporter": "python",
   "pygments_lexer": "ipython3",
   "version": "3.7.3"
  }
 },
 "nbformat": 4,
 "nbformat_minor": 2
}
