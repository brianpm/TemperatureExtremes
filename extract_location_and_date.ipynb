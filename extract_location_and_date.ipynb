{
 "cells": [
  {
   "cell_type": "code",
   "execution_count": 1,
   "metadata": {},
   "outputs": [],
   "source": [
    "import numpy as np \n",
    "\n",
    "import xarray as xr"
   ]
  },
  {
   "cell_type": "code",
   "execution_count": 2,
   "metadata": {},
   "outputs": [
    {
     "name": "stdout",
     "output_type": "stream",
     "text": [
      "CPU times: user 356 ms, sys: 43 ms, total: 399 ms\n",
      "Wall time: 408 ms\n"
     ]
    }
   ],
   "source": [
    "%%time\n",
    "ds = xr.open_mfdataset(\"/project/amp/jcaron/CPC_Tminmax/tmax.*.nc\")\n",
    "tmax = ds['tmax']"
   ]
  },
  {
   "cell_type": "code",
   "execution_count": 3,
   "metadata": {},
   "outputs": [],
   "source": [
    "sacramento = (38. + 33/60,  360. - (121. + 28/60))"
   ]
  },
  {
   "cell_type": "code",
   "execution_count": 4,
   "metadata": {},
   "outputs": [],
   "source": [
    "sac_tmax = tmax.sel(lat=sacramento[0], lon=sacramento[1], method='nearest')"
   ]
  },
  {
   "cell_type": "code",
   "execution_count": 5,
   "metadata": {},
   "outputs": [
    {
     "data": {
      "text/plain": [
       "<xarray.DataArray 'tmax' (time: 14736)>\n",
       "dask.array<shape=(14736,), dtype=float32, chunksize=(365,)>\n",
       "Coordinates:\n",
       "    lat      float32 38.75\n",
       "    lon      float32 238.75\n",
       "  * time     (time) datetime64[ns] 1979-01-01 1979-01-02 ... 2019-05-06\n",
       "Attributes:\n",
       "    level_desc:    Surface\n",
       "    statistic:     Mean\n",
       "    parent_stat:   Other\n",
       "    long_name:     Daily Maximum Temperature\n",
       "    cell_methods:  time: mean\n",
       "    valid_range:   [-90.  50.]\n",
       "    avg_period:    0000-00-01 00:00:00\n",
       "    dataset:       CPC Global Temperature\n",
       "    comments:      GTS data and is gridded using the Shepard Algorithm\n",
       "    max_period:    6z to 6z\n",
       "    units:         degC\n",
       "    var_desc:      Maximum Temperature"
      ]
     },
     "execution_count": 5,
     "metadata": {},
     "output_type": "execute_result"
    }
   ],
   "source": [
    "sac_tmax"
   ]
  },
  {
   "cell_type": "code",
   "execution_count": 6,
   "metadata": {},
   "outputs": [
    {
     "data": {
      "text/plain": [
       "<xarray.DataArray 'tmax' ()>\n",
       "dask.array<shape=(), dtype=float32, chunksize=()>\n",
       "Coordinates:\n",
       "    lat      float32 38.75\n",
       "    lon      float32 238.75\n",
       "    time     datetime64[ns] 1979-01-01\n",
       "Attributes:\n",
       "    level_desc:    Surface\n",
       "    statistic:     Mean\n",
       "    parent_stat:   Other\n",
       "    long_name:     Daily Maximum Temperature\n",
       "    cell_methods:  time: mean\n",
       "    valid_range:   [-90.  50.]\n",
       "    avg_period:    0000-00-01 00:00:00\n",
       "    dataset:       CPC Global Temperature\n",
       "    comments:      GTS data and is gridded using the Shepard Algorithm\n",
       "    max_period:    6z to 6z\n",
       "    units:         degC\n",
       "    var_desc:      Maximum Temperature"
      ]
     },
     "execution_count": 6,
     "metadata": {},
     "output_type": "execute_result"
    }
   ],
   "source": [
    "# now get some particular day of the year:\n",
    "sac_tmax['time.month' == 7]"
   ]
  },
  {
   "cell_type": "markdown",
   "metadata": {},
   "source": [
    "# Selecting a particular date\n",
    "The following is one example of how to select a particular date. \n",
    "\n",
    "When we load the dataset, Xarray decodes the time coordinate into an array of datetime objects. The nice thing about them is that they can be accessed in ways that allow the specification of parts of the date.\n",
    "\n",
    "In the following cell, we will use the `dt` accessor to get the indices that are in july (month value equal 7) and with a day (i.e. day of month) equal to 4. \n",
    "\n",
    "Note that `time.dt.month ==7` returns an array of True/False values that is True for all data identified as being in July. Then we use the `&` to combine that array with the True/False array that checks for the day of the month being 4. "
   ]
  },
  {
   "cell_type": "code",
   "execution_count": 7,
   "metadata": {},
   "outputs": [],
   "source": [
    "time = ds['time']\n",
    "independence_day = sac_tmax[(time.dt.month == 7) & (time.dt.day == 4)]"
   ]
  },
  {
   "cell_type": "code",
   "execution_count": 8,
   "metadata": {},
   "outputs": [
    {
     "data": {
      "text/plain": [
       "<xarray.DataArray 'day' (time: 366)>\n",
       "array([ 1,  2,  3, ..., 30, 31,  1])\n",
       "Coordinates:\n",
       "  * time     (time) datetime64[ns] 1979-01-01 1979-01-02 ... 1980-01-01"
      ]
     },
     "execution_count": 8,
     "metadata": {},
     "output_type": "execute_result"
    }
   ],
   "source": [
    "time.dt.day[0:366]"
   ]
  },
  {
   "cell_type": "markdown",
   "metadata": {},
   "source": [
    "# Quick look plots\n",
    "\n",
    "Xarray has some simple plotting functionality. We can use that here to get a quck look at the resulting series of 4 July Tmax values in Sacramento.\n",
    "\n",
    "_NOTE:_ We really should not rely on Xarray's plots for very much because it becomes hard to customize them."
   ]
  },
  {
   "cell_type": "code",
   "execution_count": 9,
   "metadata": {},
   "outputs": [],
   "source": [
    "%matplotlib inline"
   ]
  },
  {
   "cell_type": "code",
   "execution_count": 10,
   "metadata": {},
   "outputs": [
    {
     "name": "stderr",
     "output_type": "stream",
     "text": [
      "/project/amp/brianpm/miniconda3/lib/python3.7/site-packages/pandas/plotting/_converter.py:129: FutureWarning: Using an implicitly registered datetime converter for a matplotlib plotting method. The converter was registered by pandas on import. Future versions of pandas will require you to explicitly register matplotlib converters.\n",
      "\n",
      "To register the converters:\n",
      "\t>>> from pandas.plotting import register_matplotlib_converters\n",
      "\t>>> register_matplotlib_converters()\n",
      "  warnings.warn(msg, FutureWarning)\n"
     ]
    },
    {
     "data": {
      "text/plain": [
       "[<matplotlib.lines.Line2D at 0x7f6d6b3496a0>]"
      ]
     },
     "execution_count": 10,
     "metadata": {},
     "output_type": "execute_result"
    },
    {
     "data": {
      "image/png": "[encoded data removed]",
      "text/plain": [
       "<Figure size 432x288 with 1 Axes>"
      ]
     },
     "metadata": {
      "needs_background": "light"
     },
     "output_type": "display_data"
    }
   ],
   "source": [
    "independence_day.plot()"
   ]
  },
  {
   "cell_type": "code",
   "execution_count": 21,
   "metadata": {},
   "outputs": [
    {
     "data": {
      "text/plain": [
       "(array([ 1,  1,  3,  2,  6,  5, 10,  6,  4,  2]),\n",
       " array([20.43872 , 22.648785, 24.858849, 27.068914, 29.278978, 31.489042,\n",
       "        33.69911 , 35.909172, 38.119236, 40.3293  , 42.539364],\n",
       "       dtype=float32))"
      ]
     },
     "execution_count": 21,
     "metadata": {},
     "output_type": "execute_result"
    }
   ],
   "source": [
    "np.histogram(independence_day)"
   ]
  },
  {
   "cell_type": "code",
   "execution_count": 17,
   "metadata": {},
   "outputs": [],
   "source": [
    "import matplotlib.pyplot as plt"
   ]
  },
  {
   "cell_type": "code",
   "execution_count": 14,
   "metadata": {},
   "outputs": [
    {
     "data": {
      "text/plain": [
       "array(20.43872, dtype=float32)"
      ]
     },
     "execution_count": 14,
     "metadata": {},
     "output_type": "execute_result"
    }
   ],
   "source": [
    "independence_day.min().values"
   ]
  },
  {
   "cell_type": "code",
   "execution_count": 15,
   "metadata": {},
   "outputs": [
    {
     "data": {
      "text/plain": [
       "<xarray.DataArray 'tmax' (time: 40)>\n",
       "array([20.43872 , 22.9501  , 36.398506, 26.625046, 36.67902 , 38.858513,\n",
       "       38.83661 , 32.96402 , 29.751451, 29.560041, 34.03031 , 28.619316,\n",
       "       42.539364, 26.962753, 34.7282  , 31.726683, 34.71311 , 34.862328,\n",
       "       35.575138, 33.15336 , 29.874626, 30.226507, 35.298985, 32.336784,\n",
       "       36.55246 , 34.984577, 36.420593, 32.90054 , 39.877167, 28.960207,\n",
       "       31.367868, 37.378284, 38.440315, 33.94316 , 42.525158, 35.599594,\n",
       "       37.400303, 31.17207 , 34.73664 , 26.212353], dtype=float32)\n",
       "Coordinates:\n",
       "    lat      float32 38.75\n",
       "    lon      float32 238.75\n",
       "  * time     (time) datetime64[ns] 1979-07-04 1980-07-04 ... 2018-07-04\n",
       "Attributes:\n",
       "    level_desc:    Surface\n",
       "    statistic:     Mean\n",
       "    parent_stat:   Other\n",
       "    long_name:     Daily Maximum Temperature\n",
       "    cell_methods:  time: mean\n",
       "    valid_range:   [-90.  50.]\n",
       "    avg_period:    0000-00-01 00:00:00\n",
       "    dataset:       CPC Global Temperature\n",
       "    comments:      GTS data and is gridded using the Shepard Algorithm\n",
       "    max_period:    6z to 6z\n",
       "    units:         degC\n",
       "    var_desc:      Maximum Temperature"
      ]
     },
     "execution_count": 15,
     "metadata": {},
     "output_type": "execute_result"
    }
   ],
   "source": [
    "independence_day.load()"
   ]
  },
  {
   "cell_type": "code",
   "execution_count": 18,
   "metadata": {},
   "outputs": [
    {
     "data": {
      "text/plain": [
       "(array([ 1.,  1.,  3.,  2.,  6.,  5., 10.,  6.,  4.,  2.]),\n",
       " array([20.43872 , 22.648785, 24.858849, 27.068914, 29.278978, 31.489042,\n",
       "        33.69911 , 35.909172, 38.119236, 40.3293  , 42.539364],\n",
       "       dtype=float32),\n",
       " <a list of 10 Patch objects>)"
      ]
     },
     "execution_count": 18,
     "metadata": {},
     "output_type": "execute_result"
    },
    {
     "data": {
      "image/png": "[encoded data removed]",
      "text/plain": [
       "<Figure size 432x288 with 1 Axes>"
      ]
     },
     "metadata": {
      "needs_background": "light"
     },
     "output_type": "display_data"
    }
   ],
   "source": [
    "plt.hist(independence_day, bins=10)"
   ]
  },
  {
   "cell_type": "code",
   "execution_count": 19,
   "metadata": {},
   "outputs": [
    {
     "data": {
      "text/plain": [
       "(array([1., 0., 0., 0., 1., 0., 0., 0., 0., 0., 1., 2., 0., 0., 1., 1., 2.,\n",
       "        2., 0., 2., 1., 1., 2., 1., 2., 3., 3., 2., 2., 2., 2., 0., 1., 2.,\n",
       "        0., 1., 0., 0., 0., 2.]),\n",
       " array([20.43872 , 20.991238, 21.543753, 22.09627 , 22.648785, 23.201302,\n",
       "        23.753817, 24.306334, 24.858849, 25.411366, 25.963882, 26.516397,\n",
       "        27.068914, 27.62143 , 28.173946, 28.726461, 29.278978, 29.831493,\n",
       "        30.38401 , 30.936525, 31.489042, 32.041557, 32.594074, 33.14659 ,\n",
       "        33.69911 , 34.25162 , 34.80414 , 35.356655, 35.909172, 36.461685,\n",
       "        37.014202, 37.56672 , 38.119236, 38.671753, 39.224266, 39.776783,\n",
       "        40.3293  , 40.881817, 41.43433 , 41.986847, 42.539364],\n",
       "       dtype=float32),\n",
       " <a list of 40 Patch objects>)"
      ]
     },
     "execution_count": 19,
     "metadata": {},
     "output_type": "execute_result"
    },
    {
     "data": {
      "image/png": "[encoded data removed]",
      "text/plain": [
       "<Figure size 432x288 with 1 Axes>"
      ]
     },
     "metadata": {
      "needs_background": "light"
     },
     "output_type": "display_data"
    }
   ],
   "source": [
    "plt.hist(independence_day, bins=40)"
   ]
  },
  {
   "cell_type": "markdown",
   "metadata": {},
   "source": [
    "# Simple function\n",
    "Just as a reminder, you can make reusable code by defining a function. Here is a function that is called `degC_to_degF` that takes temperature in Celsius and converts it to Fahrenheit. \n",
    "\n",
    "Then we use that function to really drive home the point that Sacramento is super hot."
   ]
  },
  {
   "cell_type": "code",
   "execution_count": 30,
   "metadata": {},
   "outputs": [],
   "source": [
    "def degC_to_degF(C):\n",
    "    return C * (9./5.) + 32."
   ]
  },
  {
   "cell_type": "code",
   "execution_count": 31,
   "metadata": {},
   "outputs": [],
   "source": [
    "in_f = degC_to_degF(independence_day)"
   ]
  },
  {
   "cell_type": "code",
   "execution_count": 32,
   "metadata": {},
   "outputs": [
    {
     "data": {
      "text/plain": [
       "[<matplotlib.lines.Line2D at 0x7f636862dc18>]"
      ]
     },
     "execution_count": 32,
     "metadata": {},
     "output_type": "execute_result"
    },
    {
     "data": {
      "image/png": "[encoded data removed]",
      "text/plain": [
       "<Figure size 432x288 with 1 Axes>"
      ]
     },
     "metadata": {
      "needs_background": "light"
     },
     "output_type": "display_data"
    }
   ],
   "source": [
    "in_f.plot()"
   ]
  },
  {
   "cell_type": "code",
   "execution_count": null,
   "metadata": {},
   "outputs": [],
   "source": []
  }
 ],
 "metadata": {
  "kernelspec": {
   "display_name": "Python 3",
   "language": "python",
   "name": "python3"
  },
  "language_info": {
   "codemirror_mode": {
    "name": "ipython",
    "version": 3
   },
   "file_extension": ".py",
   "mimetype": "text/x-python",
   "name": "python",
   "nbconvert_exporter": "python",
   "pygments_lexer": "ipython3",
   "version": "3.7.3"
  }
 },
 "nbformat": 4,
 "nbformat_minor": 2
}
